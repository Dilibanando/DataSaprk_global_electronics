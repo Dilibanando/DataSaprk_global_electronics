{
 "cells": [
  {
   "cell_type": "code",
   "execution_count": 1,
   "id": "f2f61669-9e6b-4003-bae9-55a854623fa8",
   "metadata": {},
   "outputs": [],
   "source": [
    "import pandas as pd\n",
    "import seaborn as sns\n",
    "import matplotlib.pyplot as plt"
   ]
  },
  {
   "cell_type": "code",
   "execution_count": 2,
   "id": "c1942d5f-0e5d-499b-a183-8d14923f1dca",
   "metadata": {},
   "outputs": [
    {
     "data": {
      "text/html": [
       "<div>\n",
       "<style scoped>\n",
       "    .dataframe tbody tr th:only-of-type {\n",
       "        vertical-align: middle;\n",
       "    }\n",
       "\n",
       "    .dataframe tbody tr th {\n",
       "        vertical-align: top;\n",
       "    }\n",
       "\n",
       "    .dataframe thead th {\n",
       "        text-align: right;\n",
       "    }\n",
       "</style>\n",
       "<table border=\"1\" class=\"dataframe\">\n",
       "  <thead>\n",
       "    <tr style=\"text-align: right;\">\n",
       "      <th></th>\n",
       "      <th>StoreKey</th>\n",
       "      <th>Country</th>\n",
       "      <th>State</th>\n",
       "      <th>Square Meters</th>\n",
       "      <th>Open Date</th>\n",
       "    </tr>\n",
       "  </thead>\n",
       "  <tbody>\n",
       "    <tr>\n",
       "      <th>0</th>\n",
       "      <td>1</td>\n",
       "      <td>Australia</td>\n",
       "      <td>Australian Capital Territory</td>\n",
       "      <td>595.0</td>\n",
       "      <td>1/1/2008</td>\n",
       "    </tr>\n",
       "    <tr>\n",
       "      <th>1</th>\n",
       "      <td>2</td>\n",
       "      <td>Australia</td>\n",
       "      <td>Northern Territory</td>\n",
       "      <td>665.0</td>\n",
       "      <td>1/12/2008</td>\n",
       "    </tr>\n",
       "    <tr>\n",
       "      <th>2</th>\n",
       "      <td>3</td>\n",
       "      <td>Australia</td>\n",
       "      <td>South Australia</td>\n",
       "      <td>2000.0</td>\n",
       "      <td>1/7/2012</td>\n",
       "    </tr>\n",
       "    <tr>\n",
       "      <th>3</th>\n",
       "      <td>4</td>\n",
       "      <td>Australia</td>\n",
       "      <td>Tasmania</td>\n",
       "      <td>2000.0</td>\n",
       "      <td>1/1/2010</td>\n",
       "    </tr>\n",
       "    <tr>\n",
       "      <th>4</th>\n",
       "      <td>5</td>\n",
       "      <td>Australia</td>\n",
       "      <td>Victoria</td>\n",
       "      <td>2000.0</td>\n",
       "      <td>12/9/2015</td>\n",
       "    </tr>\n",
       "  </tbody>\n",
       "</table>\n",
       "</div>"
      ],
      "text/plain": [
       "   StoreKey    Country                         State  Square Meters  Open Date\n",
       "0         1  Australia  Australian Capital Territory          595.0   1/1/2008\n",
       "1         2  Australia            Northern Territory          665.0  1/12/2008\n",
       "2         3  Australia               South Australia         2000.0   1/7/2012\n",
       "3         4  Australia                      Tasmania         2000.0   1/1/2010\n",
       "4         5  Australia                      Victoria         2000.0  12/9/2015"
      ]
     },
     "execution_count": 2,
     "metadata": {},
     "output_type": "execute_result"
    }
   ],
   "source": [
    "stores_df=pd.read_csv(\"Stores.csv\")\n",
    "stores_df.head(5)"
   ]
  },
  {
   "cell_type": "markdown",
   "id": "8875520a-0f4a-4116-bad4-bb2f07111264",
   "metadata": {},
   "source": [
    "<font color=\"green\"><h3>1.Handling missing values</h3></font>"
   ]
  },
  {
   "cell_type": "code",
   "execution_count": 3,
   "id": "0d253d20-eef2-4f2d-8c44-b97ef21c93c8",
   "metadata": {},
   "outputs": [
    {
     "name": "stdout",
     "output_type": "stream",
     "text": [
      "StoreKey         0\n",
      "Country          0\n",
      "State            0\n",
      "Square Meters    1\n",
      "Open Date        0\n",
      "dtype: int64\n"
     ]
    }
   ],
   "source": [
    "missing_values = stores_df.isnull().sum()\n",
    "\n",
    "print(missing_values)"
   ]
  },
  {
   "cell_type": "markdown",
   "id": "4e7bfe32-68ef-496c-ae11-4ce3028ed353",
   "metadata": {},
   "source": [
    "<font color=\"green\"><h3>1.1 Checking for skewness</h3></font>"
   ]
  },
  {
   "cell_type": "code",
   "execution_count": 4,
   "id": "9fe2eb51-d22c-44fc-a804-3db811b30a38",
   "metadata": {},
   "outputs": [
    {
     "name": "stderr",
     "output_type": "stream",
     "text": [
      "C:\\Users\\dilib\\anaconda3\\Lib\\site-packages\\seaborn\\_oldcore.py:1119: FutureWarning: use_inf_as_na option is deprecated and will be removed in a future version. Convert inf values to NaN before operating instead.\n",
      "  with pd.option_context('mode.use_inf_as_na', True):\n"
     ]
    },
    {
     "data": {
      "text/plain": [
       "<Axes: xlabel='Square Meters', ylabel='Count'>"
      ]
     },
     "execution_count": 4,
     "metadata": {},
     "output_type": "execute_result"
    },
    {
     "data": {
      "image/png": "[encoded data removed]",
      "text/plain": [
       "<Figure size 640x480 with 1 Axes>"
      ]
     },
     "metadata": {},
     "output_type": "display_data"
    }
   ],
   "source": [
    "sns.histplot(stores_df['Square Meters'], kde=True)"
   ]
  },
  {
   "cell_type": "markdown",
   "id": "e33ff5a2-741e-405c-abc5-21101cd6647e",
   "metadata": {},
   "source": [
    "<font color=\"green\"><h3>1.2 Filling missing value with median\n",
    "</h3></font>"
   ]
  },
  {
   "cell_type": "code",
   "execution_count": 5,
   "id": "5ef3870c-1c82-4883-818d-6d9229b62545",
   "metadata": {},
   "outputs": [],
   "source": [
    "#since the data is skewed it's better to fill missing value with median\n",
    "stores_df['Square Meters'].fillna(stores_df['Square Meters'].median(),inplace=True)\n"
   ]
  },
  {
   "cell_type": "code",
   "execution_count": 6,
   "id": "3cc25f98-6da0-4104-9afd-c2ace4b48e6a",
   "metadata": {},
   "outputs": [
    {
     "data": {
      "text/plain": [
       "0"
      ]
     },
     "execution_count": 6,
     "metadata": {},
     "output_type": "execute_result"
    }
   ],
   "source": [
    "stores_df['Square Meters'].isnull().sum()"
   ]
  },
  {
   "cell_type": "markdown",
   "id": "3560c2e6-062a-4d5b-b39b-98bba5621198",
   "metadata": {},
   "source": [
    "<font color=\"green\"><h3>2.Checking for duplicates</h3></font>"
   ]
  },
  {
   "cell_type": "code",
   "execution_count": 7,
   "id": "924dada9-c502-44fb-a359-c4ab6eb8d20c",
   "metadata": {},
   "outputs": [
    {
     "name": "stdout",
     "output_type": "stream",
     "text": [
      "0\n"
     ]
    }
   ],
   "source": [
    "duplicates=stores_df.duplicated(subset=['StoreKey'])\n",
    "print(duplicates.sum())"
   ]
  },
  {
   "cell_type": "markdown",
   "id": "cebccfe3-4a72-49a3-b050-85cfc7560870",
   "metadata": {},
   "source": [
    "<font color=\"green\"><h3>3.Correcting datatype</h3></font>"
   ]
  },
  {
   "cell_type": "code",
   "execution_count": 8,
   "id": "564d41c9-ba9a-4708-8ccb-a4d5ecba55ce",
   "metadata": {},
   "outputs": [
    {
     "data": {
      "text/plain": [
       "dtype('<M8[ns]')"
      ]
     },
     "execution_count": 8,
     "metadata": {},
     "output_type": "execute_result"
    }
   ],
   "source": [
    "stores_df['Open Date'] = pd.to_datetime(stores_df['Open Date'], format='%m/%d/%Y')\n",
    "stores_df['Open Date'].dtype"
   ]
  },
  {
   "cell_type": "markdown",
   "id": "a02ec402-b503-445e-a830-7b0beeb682b6",
   "metadata": {},
   "source": [
    "<font color=\"green\"><h3>4.Importing file to csv</h3></font>"
   ]
  },
  {
   "cell_type": "code",
   "execution_count": 9,
   "id": "467756da-8f7a-4ef9-8d1a-8ddd52196c53",
   "metadata": {},
   "outputs": [],
   "source": [
    "stores_df.to_csv('cleaned_Stores.csv', index=False)"
   ]
  },
  {
   "cell_type": "code",
   "execution_count": null,
   "id": "ae1ab427-4501-4f64-b089-aba1d17c126f",
   "metadata": {},
   "outputs": [],
   "source": []
  },
  {
   "cell_type": "code",
   "execution_count": null,
   "id": "746f90b7-e446-4330-b4e8-1f1d540c88f3",
   "metadata": {},
   "outputs": [],
   "source": []
  },
  {
   "cell_type": "code",
   "execution_count": null,
   "id": "1e5d5624-837c-4921-93e3-5ecb6bbda391",
   "metadata": {},
   "outputs": [],
   "source": []
  }
 ],
 "metadata": {
  "kernelspec": {
   "display_name": "Python 3 (ipykernel)",
   "language": "python",
   "name": "python3"
  },
  "language_info": {
   "codemirror_mode": {
    "name": "ipython",
    "version": 3
   },
   "file_extension": ".py",
   "mimetype": "text/x-python",
   "name": "python",
   "nbconvert_exporter": "python",
   "pygments_lexer": "ipython3",
   "version": "3.11.7"
  }
 },
 "nbformat": 4,
 "nbformat_minor": 5
}
