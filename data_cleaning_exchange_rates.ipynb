{
 "cells": [
  {
   "cell_type": "code",
   "execution_count": 1,
   "id": "76b66af6-92dc-4c21-8857-2bf25f22124e",
   "metadata": {},
   "outputs": [],
   "source": [
    "import pandas as pd"
   ]
  },
  {
   "cell_type": "code",
   "execution_count": 5,
   "id": "c3cd7975-f6f7-435a-b821-a4c82ddac0a9",
   "metadata": {},
   "outputs": [
    {
     "data": {
      "text/html": [
       "<div>\n",
       "<style scoped>\n",
       "    .dataframe tbody tr th:only-of-type {\n",
       "        vertical-align: middle;\n",
       "    }\n",
       "\n",
       "    .dataframe tbody tr th {\n",
       "        vertical-align: top;\n",
       "    }\n",
       "\n",
       "    .dataframe thead th {\n",
       "        text-align: right;\n",
       "    }\n",
       "</style>\n",
       "<table border=\"1\" class=\"dataframe\">\n",
       "  <thead>\n",
       "    <tr style=\"text-align: right;\">\n",
       "      <th></th>\n",
       "      <th>Date</th>\n",
       "      <th>Currency</th>\n",
       "      <th>Exchange</th>\n",
       "    </tr>\n",
       "  </thead>\n",
       "  <tbody>\n",
       "    <tr>\n",
       "      <th>0</th>\n",
       "      <td>1/1/2015</td>\n",
       "      <td>USD</td>\n",
       "      <td>1.0000</td>\n",
       "    </tr>\n",
       "    <tr>\n",
       "      <th>1</th>\n",
       "      <td>1/1/2015</td>\n",
       "      <td>CAD</td>\n",
       "      <td>1.1583</td>\n",
       "    </tr>\n",
       "    <tr>\n",
       "      <th>2</th>\n",
       "      <td>1/1/2015</td>\n",
       "      <td>AUD</td>\n",
       "      <td>1.2214</td>\n",
       "    </tr>\n",
       "    <tr>\n",
       "      <th>3</th>\n",
       "      <td>1/1/2015</td>\n",
       "      <td>EUR</td>\n",
       "      <td>0.8237</td>\n",
       "    </tr>\n",
       "    <tr>\n",
       "      <th>4</th>\n",
       "      <td>1/1/2015</td>\n",
       "      <td>GBP</td>\n",
       "      <td>0.6415</td>\n",
       "    </tr>\n",
       "  </tbody>\n",
       "</table>\n",
       "</div>"
      ],
      "text/plain": [
       "       Date Currency  Exchange\n",
       "0  1/1/2015      USD    1.0000\n",
       "1  1/1/2015      CAD    1.1583\n",
       "2  1/1/2015      AUD    1.2214\n",
       "3  1/1/2015      EUR    0.8237\n",
       "4  1/1/2015      GBP    0.6415"
      ]
     },
     "execution_count": 5,
     "metadata": {},
     "output_type": "execute_result"
    }
   ],
   "source": [
    "exchange_rates_df=pd.read_csv('Exchange_Rates.csv')\n",
    "exchange_rates_df.head()"
   ]
  },
  {
   "cell_type": "markdown",
   "id": "b986c855-6d50-4126-825f-bca9342d8a62",
   "metadata": {},
   "source": [
    "<font color=\"green\"><h3>1.Checking for missing values and datatypes</h3></font>"
   ]
  },
  {
   "cell_type": "code",
   "execution_count": 6,
   "id": "60d3db80-3435-4456-9971-fdbfbdae8706",
   "metadata": {},
   "outputs": [
    {
     "name": "stdout",
     "output_type": "stream",
     "text": [
      "<class 'pandas.core.frame.DataFrame'>\n",
      "RangeIndex: 11215 entries, 0 to 11214\n",
      "Data columns (total 3 columns):\n",
      " #   Column    Non-Null Count  Dtype  \n",
      "---  ------    --------------  -----  \n",
      " 0   Date      11215 non-null  object \n",
      " 1   Currency  11215 non-null  object \n",
      " 2   Exchange  11215 non-null  float64\n",
      "dtypes: float64(1), object(2)\n",
      "memory usage: 263.0+ KB\n"
     ]
    }
   ],
   "source": [
    "exchange_rates_df.info()"
   ]
  },
  {
   "cell_type": "markdown",
   "id": "f663d88a-a0b5-48a7-8297-802b7575ff71",
   "metadata": {},
   "source": [
    "<font color=\"green\"><h3>2.Checking for duplicates</h3></font>"
   ]
  },
  {
   "cell_type": "code",
   "execution_count": 7,
   "id": "ef4e054b-6c3b-4802-8cee-3b3803b3f132",
   "metadata": {},
   "outputs": [
    {
     "name": "stdout",
     "output_type": "stream",
     "text": [
      "Number of duplicate Date and Currency combinations: 0\n"
     ]
    }
   ],
   "source": [
    "duplicates = exchange_rates_df.duplicated(subset=['Date', 'Currency'])\n",
    "print(f\"Number of duplicate Date and Currency combinations: {duplicates.sum()}\")"
   ]
  },
  {
   "cell_type": "markdown",
   "id": "4481e744-498c-4c82-8a20-12cabc2b1791",
   "metadata": {},
   "source": [
    "<font color=\"green\"><h3>3.Correcting datatype</h3></font>"
   ]
  },
  {
   "cell_type": "code",
   "execution_count": 9,
   "id": "3faf5ff7-76fc-4c02-94dd-c62f7685cacd",
   "metadata": {},
   "outputs": [
    {
     "data": {
      "text/plain": [
       "dtype('<M8[ns]')"
      ]
     },
     "execution_count": 9,
     "metadata": {},
     "output_type": "execute_result"
    }
   ],
   "source": [
    "exchange_rates_df['Date'] = pd.to_datetime(exchange_rates_df['Date'], errors='coerce',format='%m/%d/%Y')\n",
    "exchange_rates_df['Date'].dtype"
   ]
  },
  {
   "cell_type": "markdown",
   "id": "e6513e32-3c55-4832-b06a-21671389193a",
   "metadata": {},
   "source": [
    "<font color=\"green\"><h3>4.Import to csv</h3></font>"
   ]
  },
  {
   "cell_type": "code",
   "execution_count": 10,
   "id": "6745a836-69d3-427d-ac82-3be8371a07d2",
   "metadata": {},
   "outputs": [],
   "source": [
    "exchange_rates_df.to_csv('cleaned_Exchange_Rates.csv', index=False)"
   ]
  },
  {
   "cell_type": "code",
   "execution_count": null,
   "id": "1ab2385d-ca8d-4ca3-b58e-23ac6d5e6672",
   "metadata": {},
   "outputs": [],
   "source": []
  }
 ],
 "metadata": {
  "kernelspec": {
   "display_name": "Python 3 (ipykernel)",
   "language": "python",
   "name": "python3"
  },
  "language_info": {
   "codemirror_mode": {
    "name": "ipython",
    "version": 3
   },
   "file_extension": ".py",
   "mimetype": "text/x-python",
   "name": "python",
   "nbconvert_exporter": "python",
   "pygments_lexer": "ipython3",
   "version": "3.11.7"
  }
 },
 "nbformat": 4,
 "nbformat_minor": 5
}
