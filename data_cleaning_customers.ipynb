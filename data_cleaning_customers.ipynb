{
 "cells": [
  {
   "cell_type": "markdown",
   "id": "0722e34f-53a4-43ed-bfe4-a582a2b98476",
   "metadata": {},
   "source": [
    "<FONT COLOR=\"GREEN\"><H3>EDA Customers- DATA CLEANING</H3></FONT>"
   ]
  },
  {
   "cell_type": "code",
   "execution_count": 1,
   "id": "d654f7dd-d9d9-40a8-ba32-b3f34f875a75",
   "metadata": {},
   "outputs": [],
   "source": [
    "import pandas as pd"
   ]
  },
  {
   "cell_type": "code",
   "execution_count": 2,
   "id": "4b20c3c8-0892-4e28-bd69-af0b9d558476",
   "metadata": {},
   "outputs": [
    {
     "data": {
      "text/html": [
       "<div>\n",
       "<style scoped>\n",
       "    .dataframe tbody tr th:only-of-type {\n",
       "        vertical-align: middle;\n",
       "    }\n",
       "\n",
       "    .dataframe tbody tr th {\n",
       "        vertical-align: top;\n",
       "    }\n",
       "\n",
       "    .dataframe thead th {\n",
       "        text-align: right;\n",
       "    }\n",
       "</style>\n",
       "<table border=\"1\" class=\"dataframe\">\n",
       "  <thead>\n",
       "    <tr style=\"text-align: right;\">\n",
       "      <th></th>\n",
       "      <th>CustomerKey</th>\n",
       "      <th>Gender</th>\n",
       "      <th>Name</th>\n",
       "      <th>City</th>\n",
       "      <th>State Code</th>\n",
       "      <th>State</th>\n",
       "      <th>Zip Code</th>\n",
       "      <th>Country</th>\n",
       "      <th>Continent</th>\n",
       "      <th>Birthday</th>\n",
       "    </tr>\n",
       "  </thead>\n",
       "  <tbody>\n",
       "    <tr>\n",
       "      <th>0</th>\n",
       "      <td>301</td>\n",
       "      <td>Female</td>\n",
       "      <td>Lilly Harding</td>\n",
       "      <td>WANDEARAH EAST</td>\n",
       "      <td>SA</td>\n",
       "      <td>South Australia</td>\n",
       "      <td>5523</td>\n",
       "      <td>Australia</td>\n",
       "      <td>Australia</td>\n",
       "      <td>7/3/1939</td>\n",
       "    </tr>\n",
       "    <tr>\n",
       "      <th>1</th>\n",
       "      <td>325</td>\n",
       "      <td>Female</td>\n",
       "      <td>Madison Hull</td>\n",
       "      <td>MOUNT BUDD</td>\n",
       "      <td>WA</td>\n",
       "      <td>Western Australia</td>\n",
       "      <td>6522</td>\n",
       "      <td>Australia</td>\n",
       "      <td>Australia</td>\n",
       "      <td>9/27/1979</td>\n",
       "    </tr>\n",
       "    <tr>\n",
       "      <th>2</th>\n",
       "      <td>554</td>\n",
       "      <td>Female</td>\n",
       "      <td>Claire Ferres</td>\n",
       "      <td>WINJALLOK</td>\n",
       "      <td>VIC</td>\n",
       "      <td>Victoria</td>\n",
       "      <td>3380</td>\n",
       "      <td>Australia</td>\n",
       "      <td>Australia</td>\n",
       "      <td>5/26/1947</td>\n",
       "    </tr>\n",
       "    <tr>\n",
       "      <th>3</th>\n",
       "      <td>786</td>\n",
       "      <td>Male</td>\n",
       "      <td>Jai Poltpalingada</td>\n",
       "      <td>MIDDLE RIVER</td>\n",
       "      <td>SA</td>\n",
       "      <td>South Australia</td>\n",
       "      <td>5223</td>\n",
       "      <td>Australia</td>\n",
       "      <td>Australia</td>\n",
       "      <td>9/17/1957</td>\n",
       "    </tr>\n",
       "    <tr>\n",
       "      <th>4</th>\n",
       "      <td>1042</td>\n",
       "      <td>Male</td>\n",
       "      <td>Aidan Pankhurst</td>\n",
       "      <td>TAWONGA SOUTH</td>\n",
       "      <td>VIC</td>\n",
       "      <td>Victoria</td>\n",
       "      <td>3698</td>\n",
       "      <td>Australia</td>\n",
       "      <td>Australia</td>\n",
       "      <td>11/19/1965</td>\n",
       "    </tr>\n",
       "  </tbody>\n",
       "</table>\n",
       "</div>"
      ],
      "text/plain": [
       "   CustomerKey  Gender               Name            City State Code  \\\n",
       "0          301  Female      Lilly Harding  WANDEARAH EAST         SA   \n",
       "1          325  Female       Madison Hull      MOUNT BUDD         WA   \n",
       "2          554  Female      Claire Ferres       WINJALLOK        VIC   \n",
       "3          786    Male  Jai Poltpalingada    MIDDLE RIVER         SA   \n",
       "4         1042    Male    Aidan Pankhurst   TAWONGA SOUTH        VIC   \n",
       "\n",
       "               State Zip Code    Country  Continent    Birthday  \n",
       "0    South Australia     5523  Australia  Australia    7/3/1939  \n",
       "1  Western Australia     6522  Australia  Australia   9/27/1979  \n",
       "2           Victoria     3380  Australia  Australia   5/26/1947  \n",
       "3    South Australia     5223  Australia  Australia   9/17/1957  \n",
       "4           Victoria     3698  Australia  Australia  11/19/1965  "
      ]
     },
     "execution_count": 2,
     "metadata": {},
     "output_type": "execute_result"
    }
   ],
   "source": [
    "customers_df=pd.read_csv('Customers.csv',encoding='ISO-8859-1')\n",
    "\n",
    "customers_df.head(5)"
   ]
  },
  {
   "cell_type": "markdown",
   "id": "76f6ba3e-7f24-499c-bc98-7a17f3bcdb6d",
   "metadata": {},
   "source": [
    "<font color=\"green\"><h3>1.Identifying Missing Values</h3></font>"
   ]
  },
  {
   "cell_type": "code",
   "execution_count": 3,
   "id": "451a673e-ecae-4ed5-b597-1f822ae00046",
   "metadata": {},
   "outputs": [
    {
     "name": "stdout",
     "output_type": "stream",
     "text": [
      "Missing values in each column:\n",
      "CustomerKey     0\n",
      "Gender          0\n",
      "Name            0\n",
      "City            0\n",
      "State Code     10\n",
      "State           0\n",
      "Zip Code        0\n",
      "Country         0\n",
      "Continent       0\n",
      "Birthday        0\n",
      "dtype: int64\n"
     ]
    }
   ],
   "source": [
    "missing_values = customers_df.isnull().sum()\n",
    "print(\"Missing values in each column:\")\n",
    "print(missing_values)"
   ]
  },
  {
   "cell_type": "markdown",
   "id": "8ff1247e-2fc0-42cc-b83b-d38502092e04",
   "metadata": {},
   "source": [
    "<font color=\"green\"><h3>2.Filling missing values in the dataset</h3></font>"
   ]
  },
  {
   "cell_type": "code",
   "execution_count": 4,
   "id": "3aba4c55-3ad4-44a2-8a1f-0f40f1edc0be",
   "metadata": {},
   "outputs": [
    {
     "name": "stdout",
     "output_type": "stream",
     "text": [
      "CustomerKey    0\n",
      "Gender         0\n",
      "Name           0\n",
      "City           0\n",
      "State Code     0\n",
      "State          0\n",
      "Zip Code       0\n",
      "Country        0\n",
      "Continent      0\n",
      "Birthday       0\n",
      "dtype: int64\n"
     ]
    }
   ],
   "source": [
    "customers_df['State Code'] = customers_df['State Code'].fillna('Not Available')\n",
    "\n",
    "print(customers_df.isnull().sum())"
   ]
  },
  {
   "cell_type": "markdown",
   "id": "dc4ddb71-90ec-4afb-bebf-e9e09894497b",
   "metadata": {},
   "source": [
    "<font color=\"green\"><h3>3.Checking datatypes\n",
    "</h3></font>"
   ]
  },
  {
   "cell_type": "code",
   "execution_count": 5,
   "id": "4f6c1e42-39d0-4c1d-b23e-13b6aba6315d",
   "metadata": {},
   "outputs": [
    {
     "name": "stdout",
     "output_type": "stream",
     "text": [
      "CustomerKey     int64\n",
      "Gender         object\n",
      "Name           object\n",
      "City           object\n",
      "State Code     object\n",
      "State          object\n",
      "Zip Code       object\n",
      "Country        object\n",
      "Continent      object\n",
      "Birthday       object\n",
      "dtype: object\n"
     ]
    }
   ],
   "source": [
    "print(customers_df.dtypes)"
   ]
  },
  {
   "cell_type": "markdown",
   "id": "1a39f60a-e2fb-452a-bbb3-79f9d9f041ff",
   "metadata": {},
   "source": [
    "<font color=\"green\"><h3>4.Correcting datatypes</h3></font>"
   ]
  },
  {
   "cell_type": "code",
   "execution_count": 6,
   "id": "5c1f81c8-010a-422b-bd15-506473485e72",
   "metadata": {},
   "outputs": [
    {
     "name": "stdout",
     "output_type": "stream",
     "text": [
      "datetime64[ns]\n"
     ]
    }
   ],
   "source": [
    "#Since Birthday dtype is in object, it has to be changed to datetime format\n",
    "customers_df['Birthday'] = pd.to_datetime(customers_df['Birthday'], errors='coerce', format='%m/%d/%Y')\n",
    "customers_df['Birthday'] = customers_df['Birthday'].astype('datetime64[ns]')\n",
    "print(customers_df['Birthday'].dtype)"
   ]
  },
  {
   "cell_type": "markdown",
   "id": "921a0ac7-9929-45ce-8825-8b6c2a246dce",
   "metadata": {},
   "source": [
    "<font color=\"green\"><h3>5.Identifying Duplicates</h3></font>"
   ]
  },
  {
   "cell_type": "code",
   "execution_count": 7,
   "id": "c433028d-85de-48b6-8ab8-814f1defd013",
   "metadata": {},
   "outputs": [
    {
     "name": "stdout",
     "output_type": "stream",
     "text": [
      "Number of duplicate CustomerKey values: 0\n"
     ]
    }
   ],
   "source": [
    "duplicate_count = customers_df['CustomerKey'].duplicated().sum()\n",
    "\n",
    "print(f'Number of duplicate CustomerKey values: {duplicate_count}')"
   ]
  },
  {
   "cell_type": "markdown",
   "id": "0453c033-d492-4c36-9762-2d9b33ac1517",
   "metadata": {},
   "source": [
    "<font color=\"green\"><h3>6.Saving the cleaned data in CSV format</h3></font>"
   ]
  },
  {
   "cell_type": "code",
   "execution_count": 8,
   "id": "0397340b-110e-4a9e-81f6-3d3859124ca2",
   "metadata": {},
   "outputs": [],
   "source": [
    "customers_df.to_csv('cleaned_customers.csv', index=False)"
   ]
  },
  {
   "cell_type": "code",
   "execution_count": null,
   "id": "9d22b1e5-933f-4eb4-b3d1-403b368beda5",
   "metadata": {},
   "outputs": [],
   "source": []
  }
 ],
 "metadata": {
  "kernelspec": {
   "display_name": "Python 3 (ipykernel)",
   "language": "python",
   "name": "python3"
  },
  "language_info": {
   "codemirror_mode": {
    "name": "ipython",
    "version": 3
   },
   "file_extension": ".py",
   "mimetype": "text/x-python",
   "name": "python",
   "nbconvert_exporter": "python",
   "pygments_lexer": "ipython3",
   "version": "3.11.7"
  }
 },
 "nbformat": 4,
 "nbformat_minor": 5
}
