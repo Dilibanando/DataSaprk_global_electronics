{
 "cells": [
  {
   "cell_type": "code",
   "execution_count": 9,
   "id": "3ba3ab1a-4cff-49cf-b83e-3ade21537365",
   "metadata": {},
   "outputs": [
    {
     "name": "stdout",
     "output_type": "stream",
     "text": [
      "   Order Number  Line Item  Order Date  Delivery Date  CustomerKey  StoreKey  \\\n",
      "0        366000          1  2016-01-01  Not Delivered       265598        10   \n",
      "1        366001          1  2016-01-01      1/13/2016      1269051         0   \n",
      "2        366001          2  2016-01-01      1/13/2016      1269051         0   \n",
      "3        366002          1  2016-01-01      1/12/2016       266019         0   \n",
      "4        366002          2  2016-01-01      1/12/2016       266019         0   \n",
      "\n",
      "   ProductKey  Quantity Currency Code  Gender  ...   Color Unit Cost USD  \\\n",
      "0        1304         1           CAD    Male  ...   White         31.27   \n",
      "1        1048         2           USD    Male  ...  Silver        141.47   \n",
      "2        2007         1           USD    Male  ...   Black        220.64   \n",
      "3        1106         7           CAD  Female  ...  Orange        148.08   \n",
      "4         373         1           CAD  Female  ...   White        166.20   \n",
      "\n",
      "  Unit Price USD SubcategoryKey                       Subcategory CategoryKey  \\\n",
      "0          68.00            406  Cameras & Camcorders Accessories           4   \n",
      "1         427.00            402               Digital SLR Cameras           4   \n",
      "2         665.94            803                        Microwaves           8   \n",
      "3         322.00            402               Digital SLR Cameras           4   \n",
      "4         326.00            301                           Laptops           3   \n",
      "\n",
      "                 Category Exchange Actual_Unitcost_In_USD  \\\n",
      "0  Cameras and camcorders   1.3884                  43.42   \n",
      "1  Cameras and camcorders   1.0000                 141.47   \n",
      "2         Home Appliances   1.0000                 220.64   \n",
      "3  Cameras and camcorders   1.3884                 205.59   \n",
      "4               Computers   1.3884                 230.75   \n",
      "\n",
      "  Actual_Unitprice_In_USD  \n",
      "0                   94.41  \n",
      "1                  427.00  \n",
      "2                  665.94  \n",
      "3                  447.06  \n",
      "4                  452.62  \n",
      "\n",
      "[5 rows x 34 columns]\n"
     ]
    }
   ],
   "source": [
    "import pandas as pd\n",
    "\n",
    "# Step 1: Load the data\n",
    "cleaned_customer_df = pd.read_csv(\"cleaned_customers.csv\")\n",
    "cleaned_stores_df = pd.read_csv(\"cleaned_stores.csv\")\n",
    "cleaned_sales_df = pd.read_csv(\"cleaned_sales.csv\")\n",
    "cleaned_products_df = pd.read_csv(\"cleaned_products.csv\")\n",
    "cleaned_exchange_rates_df = pd.read_csv(\"cleaned_Exchange_Rates.csv\")\n",
    "\n",
    "# Step 2: Rename 'State' and 'Country' in cleaned_stores_df to avoid conflicts\n",
    "cleaned_stores_df.rename(columns={'State': 'Store_State', 'Country': 'Store_Country'}, inplace=True)\n",
    "\n",
    "# Step 3: Merge sales with customer data on 'CustomerKey'\n",
    "merged_df = cleaned_sales_df.merge(cleaned_customer_df, on='CustomerKey', how='left')\n",
    "\n",
    "# Step 4: Merge the result with store data on 'StoreKey'\n",
    "merged_df = merged_df.merge(cleaned_stores_df, on='StoreKey', how='left')\n",
    "\n",
    "# Step 5: Merge with product data on 'ProductKey'\n",
    "merged_df = merged_df.merge(cleaned_products_df, on='ProductKey', how='left')\n",
    "\n",
    "# Step 8: Proceed with the merge on 'Order Date' and 'Currency Code'\n",
    "merged_df = merged_df.merge(\n",
    "    cleaned_exchange_rates_df, \n",
    "    left_on=['Order Date', 'Currency Code'], \n",
    "    right_on=['Date', 'Currency'], \n",
    "    how='left'\n",
    ")\n",
    "\n",
    "# Step 9: Drop the extra 'Date' and 'Currency' columns from exchange rates\n",
    "merged_df = merged_df.drop(columns=['Date', 'Currency'])\n",
    "\n",
    "merged_df['Actual_Unitcost_In_USD'] = (merged_df['Unit Cost USD'] * merged_df['Exchange']).round(2)\n",
    "merged_df['Actual_Unitprice_In_USD'] = (merged_df['Unit Price USD'] * merged_df['Exchange']).round(2)\n",
    "\n",
    "# Step 10: Output the first few rows of the final merged DataFrame\n",
    "print(merged_df.head())\n"
   ]
  },
  {
   "cell_type": "code",
   "execution_count": 10,
   "id": "ef9a33c2-a8ca-4bfa-b829-516e964f9d58",
   "metadata": {},
   "outputs": [
    {
     "name": "stdout",
     "output_type": "stream",
     "text": [
      "Missing columns in merged DataFrame: {'Date', 'Currency'}\n",
      "Extra columns in merged DataFrame: {'Actual_Unitcost_In_USD', 'Actual_Unitprice_In_USD'}\n"
     ]
    }
   ],
   "source": [
    "# Step 1: Collect columns from all original DataFrames\n",
    "original_columns = (\n",
    "    set(cleaned_customer_df.columns) |\n",
    "    set(cleaned_stores_df.columns) |\n",
    "    set(cleaned_sales_df.columns) |\n",
    "    set(cleaned_products_df.columns) |\n",
    "    set(cleaned_exchange_rates_df.columns)\n",
    ")\n",
    "\n",
    "# Step 2: Collect columns from the merged DataFrame\n",
    "merged_columns = set(merged_df.columns)\n",
    "\n",
    "# Step 3: Find missing columns (present in original but not in merged)\n",
    "missing_columns = original_columns - merged_columns\n",
    "\n",
    "# Step 4: Find extra columns (present in merged but not in original)\n",
    "extra_columns = merged_columns - original_columns\n",
    "\n",
    "# Step 5: Display results\n",
    "print(f\"Missing columns in merged DataFrame: {missing_columns}\")\n",
    "print(f\"Extra columns in merged DataFrame: {extra_columns}\")\n"
   ]
  },
  {
   "cell_type": "code",
   "execution_count": 11,
   "id": "66c0baa3-f3ee-429b-a85f-a9d6e51a9ccc",
   "metadata": {},
   "outputs": [
    {
     "name": "stdout",
     "output_type": "stream",
     "text": [
      "Merged DataFrame has been saved to 'merged_data.csv'.\n"
     ]
    }
   ],
   "source": [
    "# Save the merged DataFrame to a CSV file\n",
    "merged_df.to_csv(\"merged_data.csv\", index=False)\n",
    "\n",
    "print(\"Merged DataFrame has been saved to 'merged_data.csv'.\")\n"
   ]
  },
  {
   "cell_type": "code",
   "execution_count": null,
   "id": "b336c1c4-f281-4824-b451-8578310b2960",
   "metadata": {},
   "outputs": [],
   "source": []
  }
 ],
 "metadata": {
  "kernelspec": {
   "display_name": "Python 3 (ipykernel)",
   "language": "python",
   "name": "python3"
  },
  "language_info": {
   "codemirror_mode": {
    "name": "ipython",
    "version": 3
   },
   "file_extension": ".py",
   "mimetype": "text/x-python",
   "name": "python",
   "nbconvert_exporter": "python",
   "pygments_lexer": "ipython3",
   "version": "3.11.7"
  }
 },
 "nbformat": 4,
 "nbformat_minor": 5
}
